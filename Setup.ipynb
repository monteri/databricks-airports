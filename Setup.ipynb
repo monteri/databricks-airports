{
 "cells": [
  {
   "cell_type": "code",
   "execution_count": 0,
   "metadata": {
    "application/vnd.databricks.v1+cell": {
     "cellMetadata": {
      "byteLimit": 2048000,
      "implicitDf": true,
      "rowLimit": 10000
     },
     "inputWidgets": {},
     "nuid": "112d5be7-9df5-4611-bec2-1eec19143711",
     "showTitle": false,
     "tableResultSettingsMap": {},
     "title": ""
    }
   },
   "outputs": [],
   "source": [
    "%sql\n",
    "CREATE VOLUME workspace.gold.goldvolume;"
   ]
  },
  {
   "cell_type": "code",
   "execution_count": 0,
   "metadata": {
    "application/vnd.databricks.v1+cell": {
     "cellMetadata": {
      "byteLimit": 2048000,
      "rowLimit": 10000
     },
     "inputWidgets": {},
     "nuid": "4a379870-b3ff-4e1f-ac0b-d87318bee166",
     "showTitle": false,
     "tableResultSettingsMap": {},
     "title": ""
    }
   },
   "outputs": [
    {
     "output_type": "execute_result",
     "data": {
      "text/plain": [
       "True"
      ]
     },
     "execution_count": 5,
     "metadata": {},
     "output_type": "execute_result"
    }
   ],
   "source": [
    "dbutils.fs.mkdirs(\"/Volumes/workspace/raw/rawvolume/rawdata/airports\")"
   ]
  },
  {
   "cell_type": "code",
   "execution_count": 0,
   "metadata": {
    "application/vnd.databricks.v1+cell": {
     "cellMetadata": {
      "byteLimit": 2048000,
      "implicitDf": true,
      "rowLimit": 10000
     },
     "inputWidgets": {},
     "nuid": "69810a2c-a7a0-4b89-b37a-e8f76243e4d7",
     "showTitle": false,
     "tableResultSettingsMap": {},
     "title": ""
    }
   },
   "outputs": [],
   "source": [
    "%sql\n",
    "CREATE SCHEMA workspace.gold;"
   ]
  },
  {
   "cell_type": "code",
   "execution_count": 0,
   "metadata": {
    "application/vnd.databricks.v1+cell": {
     "cellMetadata": {
      "byteLimit": 2048000,
      "rowLimit": 10000
     },
     "inputWidgets": {},
     "nuid": "f741c084-b7d2-49d7-a65c-861b97b71b5b",
     "showTitle": false,
     "tableResultSettingsMap": {},
     "title": ""
    }
   },
   "outputs": [
    {
     "output_type": "display_data",
     "data": {
      "text/html": [
       "<style scoped>\n",
       "  .table-result-container {\n",
       "    max-height: 300px;\n",
       "    overflow: auto;\n",
       "  }\n",
       "  table, th, td {\n",
       "    border: 1px solid black;\n",
       "    border-collapse: collapse;\n",
       "  }\n",
       "  th, td {\n",
       "    padding: 5px;\n",
       "  }\n",
       "  th {\n",
       "    text-align: left;\n",
       "  }\n",
       "</style><div class='table-result-container'><table class='table-result'><thead style='background-color: white'><tr><th>airport_id</th><th>airport_name</th><th>city</th><th>country</th><th>_rescued_data</th></tr></thead><tbody><tr><td>A001</td><td>Gregoryland International Airport</td><td>Kristenmouth</td><td>South Georgia and the South Sandwich Islands</td><td>null</td></tr><tr><td>A002</td><td>East Kristin International Airport</td><td>North Michaelview</td><td>Bosnia and Herzegovina</td><td>null</td></tr><tr><td>A003</td><td>Brownland International Airport</td><td>Samuelville</td><td>Costa Rica</td><td>null</td></tr><tr><td>A004</td><td>Meghanton International Airport</td><td>Andrewsmouth</td><td>Macedonia</td><td>null</td></tr><tr><td>A005</td><td>East Aaron International Airport</td><td>Davishaven</td><td>Monaco</td><td>null</td></tr><tr><td>A006</td><td>Michaelburgh International Airport</td><td>East Blake</td><td>Iceland</td><td>null</td></tr><tr><td>A007</td><td>West Jennifer International Airport</td><td>Jillianstad</td><td>Libyan Arab Jamahiriya</td><td>null</td></tr><tr><td>A008</td><td>Port Craig International Airport</td><td>New Lisa</td><td>French Southern Territories</td><td>null</td></tr><tr><td>A009</td><td>New Joshuafurt International Airport</td><td>Port Jamiehaven</td><td>Pitcairn Islands</td><td>null</td></tr><tr><td>A010</td><td>Thompsontown International Airport</td><td>Murraychester</td><td>Ireland</td><td>null</td></tr><tr><td>A011</td><td>Alisonville International Airport</td><td>West Annaburgh</td><td>Mexico</td><td>null</td></tr><tr><td>A012</td><td>East Nancy International Airport</td><td>Crosston</td><td>Romania</td><td>null</td></tr><tr><td>A013</td><td>West Christianstad International Airport</td><td>North Janetton</td><td>Qatar</td><td>null</td></tr><tr><td>A014</td><td>Brittanyshire International Airport</td><td>Kylechester</td><td>Mauritius</td><td>null</td></tr><tr><td>A015</td><td>North Erinberg International Airport</td><td>Walshtown</td><td>South Georgia and the South Sandwich Islands</td><td>null</td></tr><tr><td>A016</td><td>Davidhaven International Airport</td><td>South Michael</td><td>Holy See (Vatican City State)</td><td>null</td></tr><tr><td>A017</td><td>West Melissaborough International Airport</td><td>North Robertburgh</td><td>Switzerland</td><td>null</td></tr><tr><td>A018</td><td>Lake Mandyport International Airport</td><td>Englishfort</td><td>Russian Federation</td><td>null</td></tr><tr><td>A019</td><td>East Gregtown International Airport</td><td>Downsborough</td><td>Kazakhstan</td><td>null</td></tr><tr><td>A020</td><td>Port Lori International Airport</td><td>Nicholaston</td><td>Martinique</td><td>null</td></tr><tr><td>A021</td><td>Phillipsburgh International Airport</td><td>West Ritaland</td><td>Colombia</td><td>null</td></tr><tr><td>A022</td><td>Blankenshipport International Airport</td><td>Sherryville</td><td>Bhutan</td><td>null</td></tr><tr><td>A023</td><td>Maryfurt International Airport</td><td>Lake Kennethfurt</td><td>Panama</td><td>null</td></tr><tr><td>A024</td><td>West Barbara International Airport</td><td>Sherribury</td><td>Tokelau</td><td>null</td></tr><tr><td>A025</td><td>East Tiffanymouth International Airport</td><td>North Ashley</td><td>Gambia</td><td>null</td></tr><tr><td>A026</td><td>New Isaiah International Airport</td><td>Lake Melissaland</td><td>Cote d'Ivoire</td><td>null</td></tr><tr><td>A027</td><td>West Patricia International Airport</td><td>Wilsonmouth</td><td>Djibouti</td><td>null</td></tr><tr><td>A028</td><td>Hamiltonview International Airport</td><td>Isaacland</td><td>Lebanon</td><td>null</td></tr><tr><td>A029</td><td>New Amber International Airport</td><td>Davismouth</td><td>Congo</td><td>null</td></tr><tr><td>A030</td><td>Leeport International Airport</td><td>Lake Gary</td><td>Armenia</td><td>null</td></tr><tr><td>A031</td><td>East Paulahaven International Airport</td><td>New Charlesberg</td><td>Thailand</td><td>null</td></tr><tr><td>A032</td><td>East Robinmouth International Airport</td><td>Sharonstad</td><td>Poland</td><td>null</td></tr><tr><td>A033</td><td>Perezbury International Airport</td><td>West Maryville</td><td>Korea</td><td>null</td></tr><tr><td>A034</td><td>West Matthew International Airport</td><td>Wigginsmouth</td><td>Czech Republic</td><td>null</td></tr><tr><td>A035</td><td>Chavezchester International Airport</td><td>Port Meganhaven</td><td>Niger</td><td>null</td></tr><tr><td>A036</td><td>Teresaberg International Airport</td><td>Taylorshire</td><td>Cayman Islands</td><td>null</td></tr><tr><td>A037</td><td>Francobury International Airport</td><td>Foleyland</td><td>Denmark</td><td>null</td></tr><tr><td>A038</td><td>South Caroline International Airport</td><td>Sarahchester</td><td>New Zealand</td><td>null</td></tr><tr><td>A039</td><td>Reneeborough International Airport</td><td>East Amanda</td><td>Germany</td><td>null</td></tr><tr><td>A040</td><td>Jillville International Airport</td><td>Wallerchester</td><td>Libyan Arab Jamahiriya</td><td>null</td></tr><tr><td>A041</td><td>Lake Amber International Airport</td><td>Brownstad</td><td>Algeria</td><td>null</td></tr><tr><td>A042</td><td>West Matthew International Airport</td><td>Reedshire</td><td>Lithuania</td><td>null</td></tr><tr><td>A043</td><td>Kaylaland International Airport</td><td>Schultzhaven</td><td>Sweden</td><td>null</td></tr><tr><td>A044</td><td>Cordovaview International Airport</td><td>Shannonport</td><td>Gabon</td><td>null</td></tr><tr><td>A045</td><td>Stoneport International Airport</td><td>New Joseph</td><td>Georgia</td><td>null</td></tr><tr><td>A046</td><td>Janetview International Airport</td><td>West Steventon</td><td>Bahamas</td><td>null</td></tr><tr><td>A047</td><td>New Michaelland International Airport</td><td>Sanchezberg</td><td>Hong Kong</td><td>null</td></tr><tr><td>A048</td><td>Sarahmouth International Airport</td><td>Edwardmouth</td><td>Malaysia</td><td>null</td></tr><tr><td>A049</td><td>North Heather International Airport</td><td>West Andrewview</td><td>Netherlands Antilles</td><td>null</td></tr><tr><td>A050</td><td>Paultown International Airport</td><td>North Richardmouth</td><td>France</td><td>null</td></tr><tr><td>A051</td><td>Amandaport International Airport</td><td>Jamestown</td><td>Micronesia</td><td>null</td></tr><tr><td>A052</td><td>East Cynthia International Airport</td><td>Gibbsfurt</td><td>Ecuador</td><td>null</td></tr><tr><td>A053</td><td>South Corey International Airport</td><td>Johnsonfort</td><td>Switzerland</td><td>null</td></tr><tr><td>A054</td><td>Jonestown International Airport</td><td>Garciaview</td><td>Colombia</td><td>null</td></tr><tr><td>A055</td><td>Port Jamieport International Airport</td><td>Sarahstad</td><td>Netherlands</td><td>null</td></tr></tbody></table></div>"
      ]
     },
     "metadata": {
      "application/vnd.databricks.v1+output": {
       "addedWidgets": {},
       "aggData": [],
       "aggError": "",
       "aggOverflow": false,
       "aggSchema": [],
       "aggSeriesLimitReached": false,
       "aggType": "",
       "arguments": {},
       "columnCustomDisplayInfos": {},
       "data": [
        [
         "A001",
         "Gregoryland International Airport",
         "Kristenmouth",
         "South Georgia and the South Sandwich Islands",
         null
        ],
        [
         "A002",
         "East Kristin International Airport",
         "North Michaelview",
         "Bosnia and Herzegovina",
         null
        ],
        [
         "A003",
         "Brownland International Airport",
         "Samuelville",
         "Costa Rica",
         null
        ],
        [
         "A004",
         "Meghanton International Airport",
         "Andrewsmouth",
         "Macedonia",
         null
        ],
        [
         "A005",
         "East Aaron International Airport",
         "Davishaven",
         "Monaco",
         null
        ],
        [
         "A006",
         "Michaelburgh International Airport",
         "East Blake",
         "Iceland",
         null
        ],
        [
         "A007",
         "West Jennifer International Airport",
         "Jillianstad",
         "Libyan Arab Jamahiriya",
         null
        ],
        [
         "A008",
         "Port Craig International Airport",
         "New Lisa",
         "French Southern Territories",
         null
        ],
        [
         "A009",
         "New Joshuafurt International Airport",
         "Port Jamiehaven",
         "Pitcairn Islands",
         null
        ],
        [
         "A010",
         "Thompsontown International Airport",
         "Murraychester",
         "Ireland",
         null
        ],
        [
         "A011",
         "Alisonville International Airport",
         "West Annaburgh",
         "Mexico",
         null
        ],
        [
         "A012",
         "East Nancy International Airport",
         "Crosston",
         "Romania",
         null
        ],
        [
         "A013",
         "West Christianstad International Airport",
         "North Janetton",
         "Qatar",
         null
        ],
        [
         "A014",
         "Brittanyshire International Airport",
         "Kylechester",
         "Mauritius",
         null
        ],
        [
         "A015",
         "North Erinberg International Airport",
         "Walshtown",
         "South Georgia and the South Sandwich Islands",
         null
        ],
        [
         "A016",
         "Davidhaven International Airport",
         "South Michael",
         "Holy See (Vatican City State)",
         null
        ],
        [
         "A017",
         "West Melissaborough International Airport",
         "North Robertburgh",
         "Switzerland",
         null
        ],
        [
         "A018",
         "Lake Mandyport International Airport",
         "Englishfort",
         "Russian Federation",
         null
        ],
        [
         "A019",
         "East Gregtown International Airport",
         "Downsborough",
         "Kazakhstan",
         null
        ],
        [
         "A020",
         "Port Lori International Airport",
         "Nicholaston",
         "Martinique",
         null
        ],
        [
         "A021",
         "Phillipsburgh International Airport",
         "West Ritaland",
         "Colombia",
         null
        ],
        [
         "A022",
         "Blankenshipport International Airport",
         "Sherryville",
         "Bhutan",
         null
        ],
        [
         "A023",
         "Maryfurt International Airport",
         "Lake Kennethfurt",
         "Panama",
         null
        ],
        [
         "A024",
         "West Barbara International Airport",
         "Sherribury",
         "Tokelau",
         null
        ],
        [
         "A025",
         "East Tiffanymouth International Airport",
         "North Ashley",
         "Gambia",
         null
        ],
        [
         "A026",
         "New Isaiah International Airport",
         "Lake Melissaland",
         "Cote d'Ivoire",
         null
        ],
        [
         "A027",
         "West Patricia International Airport",
         "Wilsonmouth",
         "Djibouti",
         null
        ],
        [
         "A028",
         "Hamiltonview International Airport",
         "Isaacland",
         "Lebanon",
         null
        ],
        [
         "A029",
         "New Amber International Airport",
         "Davismouth",
         "Congo",
         null
        ],
        [
         "A030",
         "Leeport International Airport",
         "Lake Gary",
         "Armenia",
         null
        ],
        [
         "A031",
         "East Paulahaven International Airport",
         "New Charlesberg",
         "Thailand",
         null
        ],
        [
         "A032",
         "East Robinmouth International Airport",
         "Sharonstad",
         "Poland",
         null
        ],
        [
         "A033",
         "Perezbury International Airport",
         "West Maryville",
         "Korea",
         null
        ],
        [
         "A034",
         "West Matthew International Airport",
         "Wigginsmouth",
         "Czech Republic",
         null
        ],
        [
         "A035",
         "Chavezchester International Airport",
         "Port Meganhaven",
         "Niger",
         null
        ],
        [
         "A036",
         "Teresaberg International Airport",
         "Taylorshire",
         "Cayman Islands",
         null
        ],
        [
         "A037",
         "Francobury International Airport",
         "Foleyland",
         "Denmark",
         null
        ],
        [
         "A038",
         "South Caroline International Airport",
         "Sarahchester",
         "New Zealand",
         null
        ],
        [
         "A039",
         "Reneeborough International Airport",
         "East Amanda",
         "Germany",
         null
        ],
        [
         "A040",
         "Jillville International Airport",
         "Wallerchester",
         "Libyan Arab Jamahiriya",
         null
        ],
        [
         "A041",
         "Lake Amber International Airport",
         "Brownstad",
         "Algeria",
         null
        ],
        [
         "A042",
         "West Matthew International Airport",
         "Reedshire",
         "Lithuania",
         null
        ],
        [
         "A043",
         "Kaylaland International Airport",
         "Schultzhaven",
         "Sweden",
         null
        ],
        [
         "A044",
         "Cordovaview International Airport",
         "Shannonport",
         "Gabon",
         null
        ],
        [
         "A045",
         "Stoneport International Airport",
         "New Joseph",
         "Georgia",
         null
        ],
        [
         "A046",
         "Janetview International Airport",
         "West Steventon",
         "Bahamas",
         null
        ],
        [
         "A047",
         "New Michaelland International Airport",
         "Sanchezberg",
         "Hong Kong",
         null
        ],
        [
         "A048",
         "Sarahmouth International Airport",
         "Edwardmouth",
         "Malaysia",
         null
        ],
        [
         "A049",
         "North Heather International Airport",
         "West Andrewview",
         "Netherlands Antilles",
         null
        ],
        [
         "A050",
         "Paultown International Airport",
         "North Richardmouth",
         "France",
         null
        ],
        [
         "A051",
         "Amandaport International Airport",
         "Jamestown",
         "Micronesia",
         null
        ],
        [
         "A052",
         "East Cynthia International Airport",
         "Gibbsfurt",
         "Ecuador",
         null
        ],
        [
         "A053",
         "South Corey International Airport",
         "Johnsonfort",
         "Switzerland",
         null
        ],
        [
         "A054",
         "Jonestown International Airport",
         "Garciaview",
         "Colombia",
         null
        ],
        [
         "A055",
         "Port Jamieport International Airport",
         "Sarahstad",
         "Netherlands",
         null
        ]
       ],
       "datasetInfos": [],
       "dbfsResultPath": null,
       "isJsonSchema": true,
       "metadata": {},
       "overflow": false,
       "plotOptions": {
        "customPlotOptions": {},
        "displayType": "table",
        "pivotAggregation": null,
        "pivotColumns": null,
        "xColumns": null,
        "yColumns": null
       },
       "removedWidgets": [],
       "schema": [
        {
         "metadata": "{}",
         "name": "airport_id",
         "type": "\"string\""
        },
        {
         "metadata": "{}",
         "name": "airport_name",
         "type": "\"string\""
        },
        {
         "metadata": "{}",
         "name": "city",
         "type": "\"string\""
        },
        {
         "metadata": "{}",
         "name": "country",
         "type": "\"string\""
        },
        {
         "metadata": "{}",
         "name": "_rescued_data",
         "type": "\"string\""
        }
       ],
       "type": "table"
      }
     },
     "output_type": "display_data"
    }
   ],
   "source": [
    "flights_df = spark.read.format(\"delta\").load(\"/Volumes/workspace/bronze/bronzevolume/airports/data/\")\n",
    "display(flights_df)"
   ]
  },
  {
   "cell_type": "code",
   "execution_count": 0,
   "metadata": {
    "application/vnd.databricks.v1+cell": {
     "cellMetadata": {},
     "inputWidgets": {},
     "nuid": "04e44809-10a9-4715-9830-6dab68264c80",
     "showTitle": false,
     "tableResultSettingsMap": {},
     "title": ""
    }
   },
   "outputs": [],
   "source": []
  }
 ],
 "metadata": {
  "application/vnd.databricks.v1+notebook": {
   "computePreferences": null,
   "dashboards": [],
   "environmentMetadata": {
    "base_environment": "",
    "environment_version": "2"
   },
   "inputWidgetPreferences": null,
   "language": "python",
   "notebookMetadata": {
    "mostRecentlyExecutedCommandWithImplicitDF": {
     "commandId": 4599764178593957,
     "dataframes": [
      "_sqldf"
     ]
    },
    "pythonIndentUnit": 4
   },
   "notebookName": "Setup",
   "widgets": {}
  },
  "language_info": {
   "name": "python"
  }
 },
 "nbformat": 4,
 "nbformat_minor": 0
}